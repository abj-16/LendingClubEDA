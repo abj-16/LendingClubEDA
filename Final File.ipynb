{
 "cells": [
  {
   "cell_type": "code",
   "execution_count": 1,
   "id": "4665fdff",
   "metadata": {},
   "outputs": [],
   "source": [
    "import pandas as pd\n",
    "import numpy as np\n",
    "import matplotlib.pyplot as plt\n",
    "import seaborn as sns\n",
    "%matplotlib inline\n",
    "pd.options.display.float_format = '{:.2f}'.format\n",
    "pd.set_option('display.max_columns',200)\n",
    "pd.set_option('display.width',400)"
   ]
  },
  {
   "cell_type": "code",
   "execution_count": 2,
   "id": "ce0715a4",
   "metadata": {},
   "outputs": [],
   "source": [
    "df0 = pd.read_csv('loan.csv' , low_memory=False)"
   ]
  },
  {
   "cell_type": "code",
   "execution_count": 3,
   "id": "c8ddfe55",
   "metadata": {},
   "outputs": [
    {
     "data": {
      "text/html": [
       "<div>\n",
       "<style scoped>\n",
       "    .dataframe tbody tr th:only-of-type {\n",
       "        vertical-align: middle;\n",
       "    }\n",
       "\n",
       "    .dataframe tbody tr th {\n",
       "        vertical-align: top;\n",
       "    }\n",
       "\n",
       "    .dataframe thead th {\n",
       "        text-align: right;\n",
       "    }\n",
       "</style>\n",
       "<table border=\"1\" class=\"dataframe\">\n",
       "  <thead>\n",
       "    <tr style=\"text-align: right;\">\n",
       "      <th></th>\n",
       "      <th>id</th>\n",
       "      <th>member_id</th>\n",
       "      <th>loan_amnt</th>\n",
       "      <th>funded_amnt</th>\n",
       "      <th>funded_amnt_inv</th>\n",
       "      <th>term</th>\n",
       "      <th>int_rate</th>\n",
       "      <th>installment</th>\n",
       "      <th>grade</th>\n",
       "      <th>sub_grade</th>\n",
       "      <th>emp_title</th>\n",
       "      <th>emp_length</th>\n",
       "      <th>home_ownership</th>\n",
       "      <th>annual_inc</th>\n",
       "      <th>verification_status</th>\n",
       "      <th>issue_d</th>\n",
       "      <th>loan_status</th>\n",
       "      <th>pymnt_plan</th>\n",
       "      <th>url</th>\n",
       "      <th>desc</th>\n",
       "      <th>purpose</th>\n",
       "      <th>title</th>\n",
       "      <th>zip_code</th>\n",
       "      <th>addr_state</th>\n",
       "      <th>dti</th>\n",
       "      <th>delinq_2yrs</th>\n",
       "      <th>earliest_cr_line</th>\n",
       "      <th>inq_last_6mths</th>\n",
       "      <th>mths_since_last_delinq</th>\n",
       "      <th>mths_since_last_record</th>\n",
       "      <th>open_acc</th>\n",
       "      <th>pub_rec</th>\n",
       "      <th>revol_bal</th>\n",
       "      <th>revol_util</th>\n",
       "      <th>total_acc</th>\n",
       "      <th>initial_list_status</th>\n",
       "      <th>out_prncp</th>\n",
       "      <th>out_prncp_inv</th>\n",
       "      <th>total_pymnt</th>\n",
       "      <th>total_pymnt_inv</th>\n",
       "      <th>total_rec_prncp</th>\n",
       "      <th>total_rec_int</th>\n",
       "      <th>total_rec_late_fee</th>\n",
       "      <th>recoveries</th>\n",
       "      <th>collection_recovery_fee</th>\n",
       "      <th>last_pymnt_d</th>\n",
       "      <th>last_pymnt_amnt</th>\n",
       "      <th>next_pymnt_d</th>\n",
       "      <th>last_credit_pull_d</th>\n",
       "      <th>collections_12_mths_ex_med</th>\n",
       "      <th>mths_since_last_major_derog</th>\n",
       "      <th>policy_code</th>\n",
       "      <th>application_type</th>\n",
       "      <th>annual_inc_joint</th>\n",
       "      <th>dti_joint</th>\n",
       "      <th>verification_status_joint</th>\n",
       "      <th>acc_now_delinq</th>\n",
       "      <th>tot_coll_amt</th>\n",
       "      <th>tot_cur_bal</th>\n",
       "      <th>open_acc_6m</th>\n",
       "      <th>open_il_6m</th>\n",
       "      <th>open_il_12m</th>\n",
       "      <th>open_il_24m</th>\n",
       "      <th>mths_since_rcnt_il</th>\n",
       "      <th>total_bal_il</th>\n",
       "      <th>il_util</th>\n",
       "      <th>open_rv_12m</th>\n",
       "      <th>open_rv_24m</th>\n",
       "      <th>max_bal_bc</th>\n",
       "      <th>all_util</th>\n",
       "      <th>total_rev_hi_lim</th>\n",
       "      <th>inq_fi</th>\n",
       "      <th>total_cu_tl</th>\n",
       "      <th>inq_last_12m</th>\n",
       "      <th>acc_open_past_24mths</th>\n",
       "      <th>avg_cur_bal</th>\n",
       "      <th>bc_open_to_buy</th>\n",
       "      <th>bc_util</th>\n",
       "      <th>chargeoff_within_12_mths</th>\n",
       "      <th>delinq_amnt</th>\n",
       "      <th>mo_sin_old_il_acct</th>\n",
       "      <th>mo_sin_old_rev_tl_op</th>\n",
       "      <th>mo_sin_rcnt_rev_tl_op</th>\n",
       "      <th>mo_sin_rcnt_tl</th>\n",
       "      <th>mort_acc</th>\n",
       "      <th>mths_since_recent_bc</th>\n",
       "      <th>mths_since_recent_bc_dlq</th>\n",
       "      <th>mths_since_recent_inq</th>\n",
       "      <th>mths_since_recent_revol_delinq</th>\n",
       "      <th>num_accts_ever_120_pd</th>\n",
       "      <th>num_actv_bc_tl</th>\n",
       "      <th>num_actv_rev_tl</th>\n",
       "      <th>num_bc_sats</th>\n",
       "      <th>num_bc_tl</th>\n",
       "      <th>num_il_tl</th>\n",
       "      <th>num_op_rev_tl</th>\n",
       "      <th>num_rev_accts</th>\n",
       "      <th>num_rev_tl_bal_gt_0</th>\n",
       "      <th>num_sats</th>\n",
       "      <th>num_tl_120dpd_2m</th>\n",
       "      <th>num_tl_30dpd</th>\n",
       "      <th>num_tl_90g_dpd_24m</th>\n",
       "      <th>num_tl_op_past_12m</th>\n",
       "      <th>pct_tl_nvr_dlq</th>\n",
       "      <th>percent_bc_gt_75</th>\n",
       "      <th>pub_rec_bankruptcies</th>\n",
       "      <th>tax_liens</th>\n",
       "      <th>tot_hi_cred_lim</th>\n",
       "      <th>total_bal_ex_mort</th>\n",
       "      <th>total_bc_limit</th>\n",
       "      <th>total_il_high_credit_limit</th>\n",
       "    </tr>\n",
       "  </thead>\n",
       "  <tbody>\n",
       "    <tr>\n",
       "      <th>0</th>\n",
       "      <td>1077501</td>\n",
       "      <td>1296599</td>\n",
       "      <td>5000</td>\n",
       "      <td>5000</td>\n",
       "      <td>4975.00</td>\n",
       "      <td>36 months</td>\n",
       "      <td>10.65%</td>\n",
       "      <td>162.87</td>\n",
       "      <td>B</td>\n",
       "      <td>B2</td>\n",
       "      <td>NaN</td>\n",
       "      <td>10+ years</td>\n",
       "      <td>RENT</td>\n",
       "      <td>24000.00</td>\n",
       "      <td>Verified</td>\n",
       "      <td>Dec-11</td>\n",
       "      <td>Fully Paid</td>\n",
       "      <td>n</td>\n",
       "      <td>https://lendingclub.com/browse/loanDetail.acti...</td>\n",
       "      <td>Borrower added on 12/22/11 &gt; I need to upgra...</td>\n",
       "      <td>credit_card</td>\n",
       "      <td>Computer</td>\n",
       "      <td>860xx</td>\n",
       "      <td>AZ</td>\n",
       "      <td>27.65</td>\n",
       "      <td>0</td>\n",
       "      <td>Jan-85</td>\n",
       "      <td>1</td>\n",
       "      <td>NaN</td>\n",
       "      <td>NaN</td>\n",
       "      <td>3</td>\n",
       "      <td>0</td>\n",
       "      <td>13648</td>\n",
       "      <td>83.70%</td>\n",
       "      <td>9</td>\n",
       "      <td>f</td>\n",
       "      <td>0.00</td>\n",
       "      <td>0.00</td>\n",
       "      <td>5863.16</td>\n",
       "      <td>5833.84</td>\n",
       "      <td>5000.00</td>\n",
       "      <td>863.16</td>\n",
       "      <td>0.00</td>\n",
       "      <td>0.00</td>\n",
       "      <td>0.00</td>\n",
       "      <td>Jan-15</td>\n",
       "      <td>171.62</td>\n",
       "      <td>NaN</td>\n",
       "      <td>May-16</td>\n",
       "      <td>0.00</td>\n",
       "      <td>NaN</td>\n",
       "      <td>1</td>\n",
       "      <td>INDIVIDUAL</td>\n",
       "      <td>NaN</td>\n",
       "      <td>NaN</td>\n",
       "      <td>NaN</td>\n",
       "      <td>0</td>\n",
       "      <td>NaN</td>\n",
       "      <td>NaN</td>\n",
       "      <td>NaN</td>\n",
       "      <td>NaN</td>\n",
       "      <td>NaN</td>\n",
       "      <td>NaN</td>\n",
       "      <td>NaN</td>\n",
       "      <td>NaN</td>\n",
       "      <td>NaN</td>\n",
       "      <td>NaN</td>\n",
       "      <td>NaN</td>\n",
       "      <td>NaN</td>\n",
       "      <td>NaN</td>\n",
       "      <td>NaN</td>\n",
       "      <td>NaN</td>\n",
       "      <td>NaN</td>\n",
       "      <td>NaN</td>\n",
       "      <td>NaN</td>\n",
       "      <td>NaN</td>\n",
       "      <td>NaN</td>\n",
       "      <td>NaN</td>\n",
       "      <td>0.00</td>\n",
       "      <td>0</td>\n",
       "      <td>NaN</td>\n",
       "      <td>NaN</td>\n",
       "      <td>NaN</td>\n",
       "      <td>NaN</td>\n",
       "      <td>NaN</td>\n",
       "      <td>NaN</td>\n",
       "      <td>NaN</td>\n",
       "      <td>NaN</td>\n",
       "      <td>NaN</td>\n",
       "      <td>NaN</td>\n",
       "      <td>NaN</td>\n",
       "      <td>NaN</td>\n",
       "      <td>NaN</td>\n",
       "      <td>NaN</td>\n",
       "      <td>NaN</td>\n",
       "      <td>NaN</td>\n",
       "      <td>NaN</td>\n",
       "      <td>NaN</td>\n",
       "      <td>NaN</td>\n",
       "      <td>NaN</td>\n",
       "      <td>NaN</td>\n",
       "      <td>NaN</td>\n",
       "      <td>NaN</td>\n",
       "      <td>NaN</td>\n",
       "      <td>NaN</td>\n",
       "      <td>0.00</td>\n",
       "      <td>0.00</td>\n",
       "      <td>NaN</td>\n",
       "      <td>NaN</td>\n",
       "      <td>NaN</td>\n",
       "      <td>NaN</td>\n",
       "    </tr>\n",
       "    <tr>\n",
       "      <th>1</th>\n",
       "      <td>1077430</td>\n",
       "      <td>1314167</td>\n",
       "      <td>2500</td>\n",
       "      <td>2500</td>\n",
       "      <td>2500.00</td>\n",
       "      <td>60 months</td>\n",
       "      <td>15.27%</td>\n",
       "      <td>59.83</td>\n",
       "      <td>C</td>\n",
       "      <td>C4</td>\n",
       "      <td>Ryder</td>\n",
       "      <td>&lt; 1 year</td>\n",
       "      <td>RENT</td>\n",
       "      <td>30000.00</td>\n",
       "      <td>Source Verified</td>\n",
       "      <td>Dec-11</td>\n",
       "      <td>Charged Off</td>\n",
       "      <td>n</td>\n",
       "      <td>https://lendingclub.com/browse/loanDetail.acti...</td>\n",
       "      <td>Borrower added on 12/22/11 &gt; I plan to use t...</td>\n",
       "      <td>car</td>\n",
       "      <td>bike</td>\n",
       "      <td>309xx</td>\n",
       "      <td>GA</td>\n",
       "      <td>1.00</td>\n",
       "      <td>0</td>\n",
       "      <td>Apr-99</td>\n",
       "      <td>5</td>\n",
       "      <td>NaN</td>\n",
       "      <td>NaN</td>\n",
       "      <td>3</td>\n",
       "      <td>0</td>\n",
       "      <td>1687</td>\n",
       "      <td>9.40%</td>\n",
       "      <td>4</td>\n",
       "      <td>f</td>\n",
       "      <td>0.00</td>\n",
       "      <td>0.00</td>\n",
       "      <td>1008.71</td>\n",
       "      <td>1008.71</td>\n",
       "      <td>456.46</td>\n",
       "      <td>435.17</td>\n",
       "      <td>0.00</td>\n",
       "      <td>117.08</td>\n",
       "      <td>1.11</td>\n",
       "      <td>Apr-13</td>\n",
       "      <td>119.66</td>\n",
       "      <td>NaN</td>\n",
       "      <td>Sep-13</td>\n",
       "      <td>0.00</td>\n",
       "      <td>NaN</td>\n",
       "      <td>1</td>\n",
       "      <td>INDIVIDUAL</td>\n",
       "      <td>NaN</td>\n",
       "      <td>NaN</td>\n",
       "      <td>NaN</td>\n",
       "      <td>0</td>\n",
       "      <td>NaN</td>\n",
       "      <td>NaN</td>\n",
       "      <td>NaN</td>\n",
       "      <td>NaN</td>\n",
       "      <td>NaN</td>\n",
       "      <td>NaN</td>\n",
       "      <td>NaN</td>\n",
       "      <td>NaN</td>\n",
       "      <td>NaN</td>\n",
       "      <td>NaN</td>\n",
       "      <td>NaN</td>\n",
       "      <td>NaN</td>\n",
       "      <td>NaN</td>\n",
       "      <td>NaN</td>\n",
       "      <td>NaN</td>\n",
       "      <td>NaN</td>\n",
       "      <td>NaN</td>\n",
       "      <td>NaN</td>\n",
       "      <td>NaN</td>\n",
       "      <td>NaN</td>\n",
       "      <td>NaN</td>\n",
       "      <td>0.00</td>\n",
       "      <td>0</td>\n",
       "      <td>NaN</td>\n",
       "      <td>NaN</td>\n",
       "      <td>NaN</td>\n",
       "      <td>NaN</td>\n",
       "      <td>NaN</td>\n",
       "      <td>NaN</td>\n",
       "      <td>NaN</td>\n",
       "      <td>NaN</td>\n",
       "      <td>NaN</td>\n",
       "      <td>NaN</td>\n",
       "      <td>NaN</td>\n",
       "      <td>NaN</td>\n",
       "      <td>NaN</td>\n",
       "      <td>NaN</td>\n",
       "      <td>NaN</td>\n",
       "      <td>NaN</td>\n",
       "      <td>NaN</td>\n",
       "      <td>NaN</td>\n",
       "      <td>NaN</td>\n",
       "      <td>NaN</td>\n",
       "      <td>NaN</td>\n",
       "      <td>NaN</td>\n",
       "      <td>NaN</td>\n",
       "      <td>NaN</td>\n",
       "      <td>NaN</td>\n",
       "      <td>0.00</td>\n",
       "      <td>0.00</td>\n",
       "      <td>NaN</td>\n",
       "      <td>NaN</td>\n",
       "      <td>NaN</td>\n",
       "      <td>NaN</td>\n",
       "    </tr>\n",
       "  </tbody>\n",
       "</table>\n",
       "</div>"
      ],
      "text/plain": [
       "        id  member_id  loan_amnt  funded_amnt  funded_amnt_inv        term int_rate  installment grade sub_grade emp_title emp_length home_ownership  annual_inc verification_status issue_d  loan_status pymnt_plan                                                url                                               desc      purpose     title zip_code addr_state   dti  delinq_2yrs earliest_cr_line  \\\n",
       "0  1077501    1296599       5000         5000          4975.00   36 months   10.65%       162.87     B        B2       NaN  10+ years           RENT    24000.00            Verified  Dec-11   Fully Paid          n  https://lendingclub.com/browse/loanDetail.acti...    Borrower added on 12/22/11 > I need to upgra...  credit_card  Computer    860xx         AZ 27.65            0           Jan-85   \n",
       "1  1077430    1314167       2500         2500          2500.00   60 months   15.27%        59.83     C        C4     Ryder   < 1 year           RENT    30000.00     Source Verified  Dec-11  Charged Off          n  https://lendingclub.com/browse/loanDetail.acti...    Borrower added on 12/22/11 > I plan to use t...          car      bike    309xx         GA  1.00            0           Apr-99   \n",
       "\n",
       "   inq_last_6mths  mths_since_last_delinq  mths_since_last_record  open_acc  pub_rec  revol_bal revol_util  total_acc initial_list_status  out_prncp  out_prncp_inv  total_pymnt  total_pymnt_inv  total_rec_prncp  total_rec_int  total_rec_late_fee  recoveries  collection_recovery_fee last_pymnt_d  last_pymnt_amnt next_pymnt_d last_credit_pull_d  collections_12_mths_ex_med  \\\n",
       "0               1                     NaN                     NaN         3        0      13648     83.70%          9                   f       0.00           0.00      5863.16          5833.84          5000.00         863.16                0.00        0.00                     0.00       Jan-15           171.62          NaN             May-16                        0.00   \n",
       "1               5                     NaN                     NaN         3        0       1687      9.40%          4                   f       0.00           0.00      1008.71          1008.71           456.46         435.17                0.00      117.08                     1.11       Apr-13           119.66          NaN             Sep-13                        0.00   \n",
       "\n",
       "   mths_since_last_major_derog  policy_code application_type  annual_inc_joint  dti_joint  verification_status_joint  acc_now_delinq  tot_coll_amt  tot_cur_bal  open_acc_6m  open_il_6m  open_il_12m  open_il_24m  mths_since_rcnt_il  total_bal_il  il_util  open_rv_12m  open_rv_24m  max_bal_bc  all_util  total_rev_hi_lim  inq_fi  total_cu_tl  inq_last_12m  acc_open_past_24mths  avg_cur_bal  \\\n",
       "0                          NaN            1       INDIVIDUAL               NaN        NaN                        NaN               0           NaN          NaN          NaN         NaN          NaN          NaN                 NaN           NaN      NaN          NaN          NaN         NaN       NaN               NaN     NaN          NaN           NaN                   NaN          NaN   \n",
       "1                          NaN            1       INDIVIDUAL               NaN        NaN                        NaN               0           NaN          NaN          NaN         NaN          NaN          NaN                 NaN           NaN      NaN          NaN          NaN         NaN       NaN               NaN     NaN          NaN           NaN                   NaN          NaN   \n",
       "\n",
       "   bc_open_to_buy  bc_util  chargeoff_within_12_mths  delinq_amnt  mo_sin_old_il_acct  mo_sin_old_rev_tl_op  mo_sin_rcnt_rev_tl_op  mo_sin_rcnt_tl  mort_acc  mths_since_recent_bc  mths_since_recent_bc_dlq  mths_since_recent_inq  mths_since_recent_revol_delinq  num_accts_ever_120_pd  num_actv_bc_tl  num_actv_rev_tl  num_bc_sats  num_bc_tl  num_il_tl  num_op_rev_tl  num_rev_accts  \\\n",
       "0             NaN      NaN                      0.00            0                 NaN                   NaN                    NaN             NaN       NaN                   NaN                       NaN                    NaN                             NaN                    NaN             NaN              NaN          NaN        NaN        NaN            NaN            NaN   \n",
       "1             NaN      NaN                      0.00            0                 NaN                   NaN                    NaN             NaN       NaN                   NaN                       NaN                    NaN                             NaN                    NaN             NaN              NaN          NaN        NaN        NaN            NaN            NaN   \n",
       "\n",
       "   num_rev_tl_bal_gt_0  num_sats  num_tl_120dpd_2m  num_tl_30dpd  num_tl_90g_dpd_24m  num_tl_op_past_12m  pct_tl_nvr_dlq  percent_bc_gt_75  pub_rec_bankruptcies  tax_liens  tot_hi_cred_lim  total_bal_ex_mort  total_bc_limit  total_il_high_credit_limit  \n",
       "0                  NaN       NaN               NaN           NaN                 NaN                 NaN             NaN               NaN                  0.00       0.00              NaN                NaN             NaN                         NaN  \n",
       "1                  NaN       NaN               NaN           NaN                 NaN                 NaN             NaN               NaN                  0.00       0.00              NaN                NaN             NaN                         NaN  "
      ]
     },
     "execution_count": 3,
     "metadata": {},
     "output_type": "execute_result"
    }
   ],
   "source": [
    "df0.head(2)"
   ]
  },
  {
   "cell_type": "markdown",
   "id": "8be94a71",
   "metadata": {},
   "source": [
    "### First we drop all the columns with all NaN values present"
   ]
  },
  {
   "cell_type": "code",
   "execution_count": 4,
   "id": "d2055fcd",
   "metadata": {},
   "outputs": [],
   "source": [
    "df0 = df0.dropna(axis=1 , how='all')"
   ]
  },
  {
   "cell_type": "code",
   "execution_count": 5,
   "id": "94720c19",
   "metadata": {},
   "outputs": [
    {
     "name": "stdout",
     "output_type": "stream",
     "text": [
      "<class 'pandas.core.frame.DataFrame'>\n",
      "RangeIndex: 39717 entries, 0 to 39716\n",
      "Data columns (total 57 columns):\n",
      " #   Column                      Non-Null Count  Dtype  \n",
      "---  ------                      --------------  -----  \n",
      " 0   id                          39717 non-null  int64  \n",
      " 1   member_id                   39717 non-null  int64  \n",
      " 2   loan_amnt                   39717 non-null  int64  \n",
      " 3   funded_amnt                 39717 non-null  int64  \n",
      " 4   funded_amnt_inv             39717 non-null  float64\n",
      " 5   term                        39717 non-null  object \n",
      " 6   int_rate                    39717 non-null  object \n",
      " 7   installment                 39717 non-null  float64\n",
      " 8   grade                       39717 non-null  object \n",
      " 9   sub_grade                   39717 non-null  object \n",
      " 10  emp_title                   37258 non-null  object \n",
      " 11  emp_length                  38642 non-null  object \n",
      " 12  home_ownership              39717 non-null  object \n",
      " 13  annual_inc                  39717 non-null  float64\n",
      " 14  verification_status         39717 non-null  object \n",
      " 15  issue_d                     39717 non-null  object \n",
      " 16  loan_status                 39717 non-null  object \n",
      " 17  pymnt_plan                  39717 non-null  object \n",
      " 18  url                         39717 non-null  object \n",
      " 19  desc                        26777 non-null  object \n",
      " 20  purpose                     39717 non-null  object \n",
      " 21  title                       39706 non-null  object \n",
      " 22  zip_code                    39717 non-null  object \n",
      " 23  addr_state                  39717 non-null  object \n",
      " 24  dti                         39717 non-null  float64\n",
      " 25  delinq_2yrs                 39717 non-null  int64  \n",
      " 26  earliest_cr_line            39717 non-null  object \n",
      " 27  inq_last_6mths              39717 non-null  int64  \n",
      " 28  mths_since_last_delinq      14035 non-null  float64\n",
      " 29  mths_since_last_record      2786 non-null   float64\n",
      " 30  open_acc                    39717 non-null  int64  \n",
      " 31  pub_rec                     39717 non-null  int64  \n",
      " 32  revol_bal                   39717 non-null  int64  \n",
      " 33  revol_util                  39667 non-null  object \n",
      " 34  total_acc                   39717 non-null  int64  \n",
      " 35  initial_list_status         39717 non-null  object \n",
      " 36  out_prncp                   39717 non-null  float64\n",
      " 37  out_prncp_inv               39717 non-null  float64\n",
      " 38  total_pymnt                 39717 non-null  float64\n",
      " 39  total_pymnt_inv             39717 non-null  float64\n",
      " 40  total_rec_prncp             39717 non-null  float64\n",
      " 41  total_rec_int               39717 non-null  float64\n",
      " 42  total_rec_late_fee          39717 non-null  float64\n",
      " 43  recoveries                  39717 non-null  float64\n",
      " 44  collection_recovery_fee     39717 non-null  float64\n",
      " 45  last_pymnt_d                39646 non-null  object \n",
      " 46  last_pymnt_amnt             39717 non-null  float64\n",
      " 47  next_pymnt_d                1140 non-null   object \n",
      " 48  last_credit_pull_d          39715 non-null  object \n",
      " 49  collections_12_mths_ex_med  39661 non-null  float64\n",
      " 50  policy_code                 39717 non-null  int64  \n",
      " 51  application_type            39717 non-null  object \n",
      " 52  acc_now_delinq              39717 non-null  int64  \n",
      " 53  chargeoff_within_12_mths    39661 non-null  float64\n",
      " 54  delinq_amnt                 39717 non-null  int64  \n",
      " 55  pub_rec_bankruptcies        39020 non-null  float64\n",
      " 56  tax_liens                   39678 non-null  float64\n",
      "dtypes: float64(20), int64(13), object(24)\n",
      "memory usage: 17.3+ MB\n"
     ]
    }
   ],
   "source": [
    "df0.info()"
   ]
  },
  {
   "cell_type": "markdown",
   "id": "60bf272b",
   "metadata": {},
   "source": [
    "### Removing the Demographic and Behavioural Features\n",
    "\n",
    "In the info we can see that there are some columns with information like Payment plan, url, id, member_id, address state etc. which are of no use in the Approval process and mostly depend on post loan approval data. There are some columns which contain only single value like policy_code, acc_now_delinq, application type etc. which are also to be dropped."
   ]
  },
  {
   "cell_type": "code",
   "execution_count": 6,
   "id": "74f43f6b",
   "metadata": {},
   "outputs": [],
   "source": [
    "columns_to_drop = ['id','member_id','funded_amnt','emp_title','pymnt_plan','url','desc','title','zip_code','delinq_2yrs','mths_since_last_delinq','mths_since_last_record','revol_bal','initial_list_status','out_prncp','out_prncp_inv','total_pymnt','total_pymnt_inv','total_rec_prncp','total_rec_int','total_rec_late_fee','recoveries','collection_recovery_fee','last_pymnt_d','last_pymnt_amnt','next_pymnt_d','last_credit_pull_d','collections_12_mths_ex_med','policy_code','acc_now_delinq','chargeoff_within_12_mths','delinq_amnt','tax_liens','application_type','pub_rec_bankruptcies']"
   ]
  },
  {
   "cell_type": "code",
   "execution_count": 7,
   "id": "dfb06439",
   "metadata": {},
   "outputs": [],
   "source": [
    "df0.drop(columns_to_drop, axis=1 , inplace=True)"
   ]
  },
  {
   "cell_type": "code",
   "execution_count": 8,
   "id": "508d5fde",
   "metadata": {},
   "outputs": [
    {
     "name": "stdout",
     "output_type": "stream",
     "text": [
      "<class 'pandas.core.frame.DataFrame'>\n",
      "RangeIndex: 39717 entries, 0 to 39716\n",
      "Data columns (total 22 columns):\n",
      " #   Column               Non-Null Count  Dtype  \n",
      "---  ------               --------------  -----  \n",
      " 0   loan_amnt            39717 non-null  int64  \n",
      " 1   funded_amnt_inv      39717 non-null  float64\n",
      " 2   term                 39717 non-null  object \n",
      " 3   int_rate             39717 non-null  object \n",
      " 4   installment          39717 non-null  float64\n",
      " 5   grade                39717 non-null  object \n",
      " 6   sub_grade            39717 non-null  object \n",
      " 7   emp_length           38642 non-null  object \n",
      " 8   home_ownership       39717 non-null  object \n",
      " 9   annual_inc           39717 non-null  float64\n",
      " 10  verification_status  39717 non-null  object \n",
      " 11  issue_d              39717 non-null  object \n",
      " 12  loan_status          39717 non-null  object \n",
      " 13  purpose              39717 non-null  object \n",
      " 14  addr_state           39717 non-null  object \n",
      " 15  dti                  39717 non-null  float64\n",
      " 16  earliest_cr_line     39717 non-null  object \n",
      " 17  inq_last_6mths       39717 non-null  int64  \n",
      " 18  open_acc             39717 non-null  int64  \n",
      " 19  pub_rec              39717 non-null  int64  \n",
      " 20  revol_util           39667 non-null  object \n",
      " 21  total_acc            39717 non-null  int64  \n",
      "dtypes: float64(4), int64(5), object(13)\n",
      "memory usage: 6.7+ MB\n"
     ]
    }
   ],
   "source": [
    "df0.info()"
   ]
  },
  {
   "cell_type": "markdown",
   "id": "0d378d12",
   "metadata": {},
   "source": [
    "### Now we check if there are any missing values in the remaining columns"
   ]
  },
  {
   "cell_type": "code",
   "execution_count": 9,
   "id": "8daefc85",
   "metadata": {},
   "outputs": [
    {
     "data": {
      "text/plain": [
       "Index(['emp_length', 'revol_util'], dtype='object')"
      ]
     },
     "execution_count": 9,
     "metadata": {},
     "output_type": "execute_result"
    }
   ],
   "source": [
    "df0.columns[df0.isna().any()]"
   ]
  },
  {
   "cell_type": "code",
   "execution_count": 10,
   "id": "77d9a87a",
   "metadata": {},
   "outputs": [],
   "source": [
    "## Here we see there are Null values present in two columns i.e. emp_length and revol_util. So we check what we can do in them."
   ]
  },
  {
   "cell_type": "code",
   "execution_count": 10,
   "id": "54d005ac",
   "metadata": {},
   "outputs": [
    {
     "data": {
      "text/plain": [
       "10+ years    8879\n",
       "< 1 year     4583\n",
       "2 years      4388\n",
       "3 years      4095\n",
       "4 years      3436\n",
       "5 years      3282\n",
       "1 year       3240\n",
       "6 years      2229\n",
       "7 years      1773\n",
       "8 years      1479\n",
       "9 years      1258\n",
       "Name: emp_length, dtype: int64"
      ]
     },
     "execution_count": 10,
     "metadata": {},
     "output_type": "execute_result"
    }
   ],
   "source": [
    "df0.emp_length.value_counts()"
   ]
  },
  {
   "cell_type": "code",
   "execution_count": 11,
   "id": "50b22b62",
   "metadata": {},
   "outputs": [
    {
     "data": {
      "text/plain": [
       "1075"
      ]
     },
     "execution_count": 11,
     "metadata": {},
     "output_type": "execute_result"
    }
   ],
   "source": [
    "df0.emp_length.isnull().sum()"
   ]
  },
  {
   "cell_type": "code",
   "execution_count": 12,
   "id": "1f121bfa",
   "metadata": {},
   "outputs": [],
   "source": [
    "### Here we see that 1075 values out of 39717 values are null which is around 2.3%.\n",
    "### It is highly dependent value so we cannot impute the NaN with some other values, better we drop them.\n",
    "df0.dropna(axis=0 , subset=['emp_length'] , inplace=True)"
   ]
  },
  {
   "cell_type": "code",
   "execution_count": 13,
   "id": "edd97486",
   "metadata": {},
   "outputs": [
    {
     "data": {
      "text/plain": [
       "0%        941\n",
       "0.20%      62\n",
       "63%        61\n",
       "66.70%     57\n",
       "40.70%     57\n",
       "         ... \n",
       "0.83%       1\n",
       "47.36%      1\n",
       "24.65%      1\n",
       "10.61%      1\n",
       "7.28%       1\n",
       "Name: revol_util, Length: 1087, dtype: int64"
      ]
     },
     "execution_count": 13,
     "metadata": {},
     "output_type": "execute_result"
    }
   ],
   "source": [
    "df0.revol_util.value_counts()"
   ]
  },
  {
   "cell_type": "code",
   "execution_count": 14,
   "id": "23eabb90",
   "metadata": {},
   "outputs": [
    {
     "data": {
      "text/plain": [
       "47"
      ]
     },
     "execution_count": 14,
     "metadata": {},
     "output_type": "execute_result"
    }
   ],
   "source": [
    "df0.revol_util.isnull().sum()"
   ]
  },
  {
   "cell_type": "code",
   "execution_count": 15,
   "id": "0cde1e55",
   "metadata": {},
   "outputs": [],
   "source": [
    "## Here we can see that there are only 47 entries in revol_util column with null values, which is around 0.11%.\n",
    "## Thus it is better to drop this values."
   ]
  },
  {
   "cell_type": "code",
   "execution_count": 16,
   "id": "2ee985ad",
   "metadata": {},
   "outputs": [],
   "source": [
    "df0.dropna(axis=0 , subset=['revol_util'] , inplace=True)"
   ]
  },
  {
   "cell_type": "code",
   "execution_count": 17,
   "id": "40c99613",
   "metadata": {},
   "outputs": [
    {
     "data": {
      "text/plain": [
       "loan_amnt              0\n",
       "funded_amnt_inv        0\n",
       "term                   0\n",
       "int_rate               0\n",
       "installment            0\n",
       "grade                  0\n",
       "sub_grade              0\n",
       "emp_length             0\n",
       "home_ownership         0\n",
       "annual_inc             0\n",
       "verification_status    0\n",
       "issue_d                0\n",
       "loan_status            0\n",
       "purpose                0\n",
       "addr_state             0\n",
       "dti                    0\n",
       "earliest_cr_line       0\n",
       "inq_last_6mths         0\n",
       "open_acc               0\n",
       "pub_rec                0\n",
       "revol_util             0\n",
       "total_acc              0\n",
       "dtype: int64"
      ]
     },
     "execution_count": 17,
     "metadata": {},
     "output_type": "execute_result"
    }
   ],
   "source": [
    "df0.isnull().sum()"
   ]
  },
  {
   "cell_type": "markdown",
   "id": "691be0fa",
   "metadata": {},
   "source": [
    "Now there are no null values present in the dataframe.\n",
    "We need to standardize the data in order to make it compatible for analysis"
   ]
  },
  {
   "cell_type": "code",
   "execution_count": 18,
   "id": "b4d88cfa",
   "metadata": {},
   "outputs": [
    {
     "data": {
      "text/plain": [
       "array(['Fully Paid', 'Charged Off', 'Current'], dtype=object)"
      ]
     },
     "execution_count": 18,
     "metadata": {},
     "output_type": "execute_result"
    }
   ],
   "source": [
    "df0.loan_status.unique()"
   ]
  },
  {
   "cell_type": "code",
   "execution_count": 19,
   "id": "b07daf61",
   "metadata": {},
   "outputs": [],
   "source": [
    "## Here we can remove the records with loan status as 'Current', as the loan is currently running and we cannot infer anything regarding defaulters from it"
   ]
  },
  {
   "cell_type": "code",
   "execution_count": 20,
   "id": "601807ba",
   "metadata": {},
   "outputs": [
    {
     "data": {
      "text/plain": [
       "Fully Paid     32113\n",
       "Charged Off     5384\n",
       "Current         1098\n",
       "Name: loan_status, dtype: int64"
      ]
     },
     "execution_count": 20,
     "metadata": {},
     "output_type": "execute_result"
    }
   ],
   "source": [
    "df0.loan_status.value_counts()"
   ]
  },
  {
   "cell_type": "code",
   "execution_count": 21,
   "id": "c5c12cd6",
   "metadata": {},
   "outputs": [],
   "source": [
    "df0 = df0[~(df0['loan_status'] == 'Current')]"
   ]
  },
  {
   "cell_type": "code",
   "execution_count": 22,
   "id": "51c28cc6",
   "metadata": {},
   "outputs": [],
   "source": [
    "## We need to remove the % sign form int_rate and revol_util and change the datatype to float"
   ]
  },
  {
   "cell_type": "code",
   "execution_count": 23,
   "id": "bda4d595",
   "metadata": {},
   "outputs": [],
   "source": [
    "df0['int_rate'] = df0.int_rate.str.split('%').str[0].astype(float)"
   ]
  },
  {
   "cell_type": "code",
   "execution_count": 24,
   "id": "f6f29c61",
   "metadata": {},
   "outputs": [],
   "source": [
    "df0['revol_util'] = df0.revol_util.str.split('%').str[0].astype(float)"
   ]
  },
  {
   "cell_type": "code",
   "execution_count": 25,
   "id": "aef81212",
   "metadata": {},
   "outputs": [],
   "source": [
    "## Now we can change the loan status values to 0 if Fully paid and 1 if Defaulter.\n",
    "\n",
    "df0['loan_status'] = df0.loan_status.map(lambda x: 0 if x=='Fully Paid' else 1)"
   ]
  },
  {
   "cell_type": "code",
   "execution_count": 26,
   "id": "249c90fd",
   "metadata": {},
   "outputs": [],
   "source": [
    "## We look at the values in Emp_length column"
   ]
  },
  {
   "cell_type": "code",
   "execution_count": 27,
   "id": "afac598c",
   "metadata": {},
   "outputs": [
    {
     "data": {
      "text/plain": [
       "10+ years    8487\n",
       "< 1 year     4496\n",
       "2 years      4286\n",
       "3 years      4008\n",
       "4 years      3335\n",
       "5 years      3190\n",
       "1 year       3163\n",
       "6 years      2165\n",
       "7 years      1708\n",
       "8 years      1433\n",
       "9 years      1226\n",
       "Name: emp_length, dtype: int64"
      ]
     },
     "execution_count": 27,
     "metadata": {},
     "output_type": "execute_result"
    }
   ],
   "source": [
    "df0.emp_length.value_counts()"
   ]
  },
  {
   "cell_type": "code",
   "execution_count": 28,
   "id": "339fee50",
   "metadata": {},
   "outputs": [],
   "source": [
    "## Here for 10+ years we need to change it to 10 and for less than 1 year we need to change it to 0 and all the values to int format"
   ]
  },
  {
   "cell_type": "code",
   "execution_count": 29,
   "id": "cdaf3119",
   "metadata": {},
   "outputs": [],
   "source": [
    "df0['emp_length']=pd.to_numeric(df0.emp_length.apply(lambda x:0 if '<' in x else x.split('+')[0] if '+' in x else x.split()[0]))"
   ]
  },
  {
   "cell_type": "code",
   "execution_count": 30,
   "id": "64db753e",
   "metadata": {},
   "outputs": [
    {
     "data": {
      "text/plain": [
       "10    8487\n",
       "0     4496\n",
       "2     4286\n",
       "3     4008\n",
       "4     3335\n",
       "5     3190\n",
       "1     3163\n",
       "6     2165\n",
       "7     1708\n",
       "8     1433\n",
       "9     1226\n",
       "Name: emp_length, dtype: int64"
      ]
     },
     "execution_count": 30,
     "metadata": {},
     "output_type": "execute_result"
    }
   ],
   "source": [
    "df0.emp_length.value_counts()"
   ]
  },
  {
   "cell_type": "code",
   "execution_count": 31,
   "id": "4d88b605",
   "metadata": {},
   "outputs": [],
   "source": [
    "## Now we look at the purpose column values"
   ]
  },
  {
   "cell_type": "code",
   "execution_count": 32,
   "id": "9b496f6b",
   "metadata": {},
   "outputs": [
    {
     "data": {
      "text/plain": [
       "debt_consolidation    17664\n",
       "credit_card            4897\n",
       "other                  3700\n",
       "home_improvement       2782\n",
       "major_purchase         2074\n",
       "small_business         1709\n",
       "car                    1446\n",
       "wedding                 912\n",
       "medical                 654\n",
       "moving                  550\n",
       "house                   354\n",
       "vacation                347\n",
       "educational             314\n",
       "renewable_energy         94\n",
       "Name: purpose, dtype: int64"
      ]
     },
     "execution_count": 32,
     "metadata": {},
     "output_type": "execute_result"
    }
   ],
   "source": [
    "df0.purpose.value_counts()"
   ]
  },
  {
   "cell_type": "code",
   "execution_count": 33,
   "id": "e5acd9ed",
   "metadata": {},
   "outputs": [
    {
     "data": {
      "text/plain": [
       "debt_consolidation   47.11\n",
       "credit_card          13.06\n",
       "other                 9.87\n",
       "home_improvement      7.42\n",
       "major_purchase        5.53\n",
       "small_business        4.56\n",
       "car                   3.86\n",
       "wedding               2.43\n",
       "medical               1.74\n",
       "moving                1.47\n",
       "house                 0.94\n",
       "vacation              0.93\n",
       "educational           0.84\n",
       "renewable_energy      0.25\n",
       "Name: purpose, dtype: float64"
      ]
     },
     "execution_count": 33,
     "metadata": {},
     "output_type": "execute_result"
    }
   ],
   "source": [
    "df0.purpose.value_counts()*100/df0.shape[0]  #Percentage values"
   ]
  },
  {
   "cell_type": "code",
   "execution_count": 34,
   "id": "22fc5737",
   "metadata": {},
   "outputs": [],
   "source": [
    "## We can drop the rows with less than 1% of the purpose percentage"
   ]
  },
  {
   "cell_type": "code",
   "execution_count": 35,
   "id": "666375eb",
   "metadata": {},
   "outputs": [
    {
     "name": "stdout",
     "output_type": "stream",
     "text": [
      "['house' 'vacation' 'educational' 'renewable_energy']\n"
     ]
    }
   ],
   "source": [
    "loan_purpose_percent = df0.purpose.value_counts()*100 / df0.shape[0]\n",
    "\n",
    "loan_purpose_delete = loan_purpose_percent[loan_purpose_percent < 1].index.values\n",
    "\n",
    "print(loan_purpose_delete)"
   ]
  },
  {
   "cell_type": "code",
   "execution_count": 36,
   "id": "dfe8f6c8",
   "metadata": {},
   "outputs": [],
   "source": [
    "df0 = df0[[False if p in loan_purpose_delete else True for p in df0.purpose]]"
   ]
  },
  {
   "cell_type": "code",
   "execution_count": 37,
   "id": "85cc120c",
   "metadata": {
    "scrolled": true
   },
   "outputs": [
    {
     "data": {
      "text/plain": [
       "debt_consolidation   48.54\n",
       "credit_card          13.46\n",
       "other                10.17\n",
       "home_improvement      7.65\n",
       "major_purchase        5.70\n",
       "small_business        4.70\n",
       "car                   3.97\n",
       "wedding               2.51\n",
       "medical               1.80\n",
       "moving                1.51\n",
       "Name: purpose, dtype: float64"
      ]
     },
     "execution_count": 37,
     "metadata": {},
     "output_type": "execute_result"
    }
   ],
   "source": [
    "df0.purpose.value_counts()*100/df0.shape[0]"
   ]
  },
  {
   "cell_type": "markdown",
   "id": "7d165f04",
   "metadata": {},
   "source": [
    "## Now we check for outliers present for some of the features"
   ]
  },
  {
   "cell_type": "markdown",
   "id": "ea35de75",
   "metadata": {},
   "source": [
    "### 1. Annual_income"
   ]
  },
  {
   "cell_type": "code",
   "execution_count": 38,
   "id": "c42e7e7c",
   "metadata": {},
   "outputs": [
    {
     "name": "stderr",
     "output_type": "stream",
     "text": [
      "C:\\Users\\Anand\\anaconda3\\lib\\site-packages\\seaborn\\_decorators.py:36: FutureWarning: Pass the following variable as a keyword arg: x. From version 0.12, the only valid positional argument will be `data`, and passing other arguments without an explicit keyword will result in an error or misinterpretation.\n",
      "  warnings.warn(\n"
     ]
    },
    {
     "data": {
      "image/png": "[encoded data removed]",
      "text/plain": [
       "<Figure size 432x288 with 1 Axes>"
      ]
     },
     "metadata": {
      "needs_background": "light"
     },
     "output_type": "display_data"
    }
   ],
   "source": [
    "sns.boxplot(df0.annual_inc)\n",
    "plt.show()"
   ]
  },
  {
   "cell_type": "code",
   "execution_count": 39,
   "id": "7568170d",
   "metadata": {},
   "outputs": [
    {
     "data": {
      "text/plain": [
       "count     36388.00\n",
       "mean      69540.19\n",
       "std       64953.76\n",
       "min        4080.00\n",
       "25%       41496.00\n",
       "50%       60000.00\n",
       "75%       83000.00\n",
       "max     6000000.00\n",
       "Name: annual_inc, dtype: float64"
      ]
     },
     "execution_count": 39,
     "metadata": {},
     "output_type": "execute_result"
    }
   ],
   "source": [
    "df0.annual_inc.describe()  ## Here max value is around 100 times the mean value. We need to remove outliers from annual_inc"
   ]
  },
  {
   "cell_type": "code",
   "execution_count": 40,
   "id": "3111109f",
   "metadata": {},
   "outputs": [
    {
     "data": {
      "text/plain": [
       "234996.52"
      ]
     },
     "execution_count": 40,
     "metadata": {},
     "output_type": "execute_result"
    }
   ],
   "source": [
    "top_annual_inc = df0.annual_inc.quantile(0.99)\n",
    "top_annual_inc"
   ]
  },
  {
   "cell_type": "code",
   "execution_count": 41,
   "id": "71d18a10",
   "metadata": {},
   "outputs": [],
   "source": [
    "df0 = df0[df0.annual_inc < top_annual_inc]"
   ]
  },
  {
   "cell_type": "code",
   "execution_count": 42,
   "id": "a8c60211",
   "metadata": {},
   "outputs": [
    {
     "name": "stderr",
     "output_type": "stream",
     "text": [
      "C:\\Users\\Anand\\anaconda3\\lib\\site-packages\\seaborn\\_decorators.py:36: FutureWarning: Pass the following variable as a keyword arg: x. From version 0.12, the only valid positional argument will be `data`, and passing other arguments without an explicit keyword will result in an error or misinterpretation.\n",
      "  warnings.warn(\n"
     ]
    },
    {
     "data": {
      "text/plain": [
       "<AxesSubplot:xlabel='annual_inc'>"
      ]
     },
     "execution_count": 42,
     "metadata": {},
     "output_type": "execute_result"
    },
    {
     "data": {
      "image/png": "[encoded data removed]",
      "text/plain": [
       "<Figure size 432x288 with 1 Axes>"
      ]
     },
     "metadata": {
      "needs_background": "light"
     },
     "output_type": "display_data"
    }
   ],
   "source": [
    "sns.boxplot(df0.annual_inc)"
   ]
  },
  {
   "cell_type": "markdown",
   "id": "5f9a4f4c",
   "metadata": {},
   "source": [
    "### 2. Open_acc"
   ]
  },
  {
   "cell_type": "code",
   "execution_count": 43,
   "id": "cf8e11db",
   "metadata": {},
   "outputs": [
    {
     "name": "stderr",
     "output_type": "stream",
     "text": [
      "C:\\Users\\Anand\\anaconda3\\lib\\site-packages\\seaborn\\_decorators.py:36: FutureWarning: Pass the following variable as a keyword arg: x. From version 0.12, the only valid positional argument will be `data`, and passing other arguments without an explicit keyword will result in an error or misinterpretation.\n",
      "  warnings.warn(\n"
     ]
    },
    {
     "data": {
      "text/plain": [
       "<AxesSubplot:xlabel='open_acc'>"
      ]
     },
     "execution_count": 43,
     "metadata": {},
     "output_type": "execute_result"
    },
    {
     "data": {
      "image/png": "[encoded data removed]",
      "text/plain": [
       "<Figure size 432x288 with 1 Axes>"
      ]
     },
     "metadata": {
      "needs_background": "light"
     },
     "output_type": "display_data"
    }
   ],
   "source": [
    "sns.boxplot(df0.open_acc)"
   ]
  },
  {
   "cell_type": "code",
   "execution_count": 44,
   "id": "ea34316f",
   "metadata": {},
   "outputs": [
    {
     "data": {
      "text/plain": [
       "count   36024.00\n",
       "mean        9.31\n",
       "std         4.38\n",
       "min         2.00\n",
       "25%         6.00\n",
       "50%         9.00\n",
       "75%        12.00\n",
       "max        44.00\n",
       "Name: open_acc, dtype: float64"
      ]
     },
     "execution_count": 44,
     "metadata": {},
     "output_type": "execute_result"
    }
   ],
   "source": [
    "df0.open_acc.describe()    ## Here we see max value is approx. 5 times mean value hence outliers need to be removed."
   ]
  },
  {
   "cell_type": "code",
   "execution_count": 45,
   "id": "b9a8fcc0",
   "metadata": {},
   "outputs": [
    {
     "data": {
      "text/plain": [
       "30.0"
      ]
     },
     "execution_count": 45,
     "metadata": {},
     "output_type": "execute_result"
    }
   ],
   "source": [
    "top_open_acc = df0.open_acc.quantile(0.999)\n",
    "top_open_acc"
   ]
  },
  {
   "cell_type": "code",
   "execution_count": 46,
   "id": "d2d9d59a",
   "metadata": {},
   "outputs": [],
   "source": [
    "df0 = df0[df0.open_acc < top_open_acc]"
   ]
  },
  {
   "cell_type": "code",
   "execution_count": 47,
   "id": "f17f3397",
   "metadata": {},
   "outputs": [
    {
     "data": {
      "text/plain": [
       "count   35983.00\n",
       "mean        9.28\n",
       "std         4.31\n",
       "min         2.00\n",
       "25%         6.00\n",
       "50%         9.00\n",
       "75%        12.00\n",
       "max        29.00\n",
       "Name: open_acc, dtype: float64"
      ]
     },
     "execution_count": 47,
     "metadata": {},
     "output_type": "execute_result"
    }
   ],
   "source": [
    "df0.open_acc.describe()"
   ]
  },
  {
   "cell_type": "code",
   "execution_count": 48,
   "id": "111f3b40",
   "metadata": {},
   "outputs": [
    {
     "name": "stderr",
     "output_type": "stream",
     "text": [
      "C:\\Users\\Anand\\anaconda3\\lib\\site-packages\\seaborn\\_decorators.py:36: FutureWarning: Pass the following variable as a keyword arg: x. From version 0.12, the only valid positional argument will be `data`, and passing other arguments without an explicit keyword will result in an error or misinterpretation.\n",
      "  warnings.warn(\n"
     ]
    },
    {
     "data": {
      "text/plain": [
       "<AxesSubplot:xlabel='open_acc'>"
      ]
     },
     "execution_count": 48,
     "metadata": {},
     "output_type": "execute_result"
    },
    {
     "data": {
      "image/png": "[encoded data removed]",
      "text/plain": [
       "<Figure size 432x288 with 1 Axes>"
      ]
     },
     "metadata": {
      "needs_background": "light"
     },
     "output_type": "display_data"
    }
   ],
   "source": [
    "sns.boxplot(df0.open_acc)"
   ]
  },
  {
   "cell_type": "markdown",
   "id": "e8a70177",
   "metadata": {},
   "source": [
    "### 3. Total_acc"
   ]
  },
  {
   "cell_type": "code",
   "execution_count": 49,
   "id": "e30687c1",
   "metadata": {},
   "outputs": [
    {
     "data": {
      "text/plain": [
       "count   35983.00\n",
       "mean       22.03\n",
       "std        11.30\n",
       "min         2.00\n",
       "25%        14.00\n",
       "50%        20.00\n",
       "75%        29.00\n",
       "max        90.00\n",
       "Name: total_acc, dtype: float64"
      ]
     },
     "execution_count": 49,
     "metadata": {},
     "output_type": "execute_result"
    }
   ],
   "source": [
    "df0.total_acc.describe()"
   ]
  },
  {
   "cell_type": "code",
   "execution_count": 50,
   "id": "902fb606",
   "metadata": {},
   "outputs": [
    {
     "name": "stderr",
     "output_type": "stream",
     "text": [
      "C:\\Users\\Anand\\anaconda3\\lib\\site-packages\\seaborn\\_decorators.py:36: FutureWarning: Pass the following variable as a keyword arg: x. From version 0.12, the only valid positional argument will be `data`, and passing other arguments without an explicit keyword will result in an error or misinterpretation.\n",
      "  warnings.warn(\n"
     ]
    },
    {
     "data": {
      "text/plain": [
       "<AxesSubplot:xlabel='total_acc'>"
      ]
     },
     "execution_count": 50,
     "metadata": {},
     "output_type": "execute_result"
    },
    {
     "data": {
      "image/png": "[encoded data removed]",
      "text/plain": [
       "<Figure size 432x288 with 1 Axes>"
      ]
     },
     "metadata": {
      "needs_background": "light"
     },
     "output_type": "display_data"
    }
   ],
   "source": [
    "sns.boxplot(df0.total_acc)"
   ]
  },
  {
   "cell_type": "code",
   "execution_count": 51,
   "id": "32d3a67b",
   "metadata": {},
   "outputs": [
    {
     "data": {
      "text/plain": [
       "55.0"
      ]
     },
     "execution_count": 51,
     "metadata": {},
     "output_type": "execute_result"
    }
   ],
   "source": [
    "top_total_acc = df0.total_acc.quantile(0.99)\n",
    "top_total_acc"
   ]
  },
  {
   "cell_type": "code",
   "execution_count": 52,
   "id": "81ce0b39",
   "metadata": {},
   "outputs": [],
   "source": [
    "df0 = df0[df0.total_acc < top_total_acc]"
   ]
  },
  {
   "cell_type": "code",
   "execution_count": 53,
   "id": "e9ca9231",
   "metadata": {},
   "outputs": [
    {
     "name": "stderr",
     "output_type": "stream",
     "text": [
      "C:\\Users\\Anand\\anaconda3\\lib\\site-packages\\seaborn\\_decorators.py:36: FutureWarning: Pass the following variable as a keyword arg: x. From version 0.12, the only valid positional argument will be `data`, and passing other arguments without an explicit keyword will result in an error or misinterpretation.\n",
      "  warnings.warn(\n"
     ]
    },
    {
     "data": {
      "text/plain": [
       "<AxesSubplot:xlabel='total_acc'>"
      ]
     },
     "execution_count": 53,
     "metadata": {},
     "output_type": "execute_result"
    },
    {
     "data": {
      "image/png": "[encoded data removed]",
      "text/plain": [
       "<Figure size 432x288 with 1 Axes>"
      ]
     },
     "metadata": {
      "needs_background": "light"
     },
     "output_type": "display_data"
    }
   ],
   "source": [
    "sns.boxplot(df0.total_acc)"
   ]
  },
  {
   "cell_type": "markdown",
   "id": "6a7616b6",
   "metadata": {},
   "source": [
    "### 4. Pub_rec"
   ]
  },
  {
   "cell_type": "code",
   "execution_count": 54,
   "id": "a5305774",
   "metadata": {},
   "outputs": [
    {
     "data": {
      "text/plain": [
       "count   35602.00\n",
       "mean        0.05\n",
       "std         0.24\n",
       "min         0.00\n",
       "25%         0.00\n",
       "50%         0.00\n",
       "75%         0.00\n",
       "max         4.00\n",
       "Name: pub_rec, dtype: float64"
      ]
     },
     "execution_count": 54,
     "metadata": {},
     "output_type": "execute_result"
    }
   ],
   "source": [
    "df0.pub_rec.describe()"
   ]
  },
  {
   "cell_type": "code",
   "execution_count": 55,
   "id": "4d6e2dca",
   "metadata": {},
   "outputs": [
    {
     "name": "stderr",
     "output_type": "stream",
     "text": [
      "C:\\Users\\Anand\\anaconda3\\lib\\site-packages\\seaborn\\_decorators.py:36: FutureWarning: Pass the following variable as a keyword arg: x. From version 0.12, the only valid positional argument will be `data`, and passing other arguments without an explicit keyword will result in an error or misinterpretation.\n",
      "  warnings.warn(\n"
     ]
    },
    {
     "data": {
      "text/plain": [
       "<AxesSubplot:xlabel='pub_rec'>"
      ]
     },
     "execution_count": 55,
     "metadata": {},
     "output_type": "execute_result"
    },
    {
     "data": {
      "image/png": "[encoded data removed]",
      "text/plain": [
       "<Figure size 432x288 with 1 Axes>"
      ]
     },
     "metadata": {
      "needs_background": "light"
     },
     "output_type": "display_data"
    }
   ],
   "source": [
    "sns.boxplot(df0.pub_rec)"
   ]
  },
  {
   "cell_type": "code",
   "execution_count": 56,
   "id": "5a79e618",
   "metadata": {},
   "outputs": [],
   "source": [
    "total_pub_rec = df0.pub_rec.quantile(0.99)"
   ]
  },
  {
   "cell_type": "code",
   "execution_count": 57,
   "id": "1786bb97",
   "metadata": {},
   "outputs": [],
   "source": [
    "df0 = df0[df0.pub_rec < total_pub_rec]"
   ]
  },
  {
   "cell_type": "code",
   "execution_count": 58,
   "id": "08a3abcb",
   "metadata": {},
   "outputs": [
    {
     "name": "stderr",
     "output_type": "stream",
     "text": [
      "C:\\Users\\Anand\\anaconda3\\lib\\site-packages\\seaborn\\_decorators.py:36: FutureWarning: Pass the following variable as a keyword arg: x. From version 0.12, the only valid positional argument will be `data`, and passing other arguments without an explicit keyword will result in an error or misinterpretation.\n",
      "  warnings.warn(\n"
     ]
    },
    {
     "data": {
      "text/plain": [
       "<AxesSubplot:xlabel='pub_rec'>"
      ]
     },
     "execution_count": 58,
     "metadata": {},
     "output_type": "execute_result"
    },
    {
     "data": {
      "image/png": "[encoded data removed]",
      "text/plain": [
       "<Figure size 432x288 with 1 Axes>"
      ]
     },
     "metadata": {
      "needs_background": "light"
     },
     "output_type": "display_data"
    }
   ],
   "source": [
    "sns.boxplot(df0.pub_rec)"
   ]
  },
  {
   "cell_type": "markdown",
   "id": "84001927",
   "metadata": {},
   "source": [
    "## Deriving new metrics\n",
    "\n",
    "### 1. Isssue date\n",
    "\n",
    "We can see that issue date is not in standard format, we need to convert it in standard form and split it in two columns of Month and Year which makes easy for analysis."
   ]
  },
  {
   "cell_type": "code",
   "execution_count": 59,
   "id": "674c6b26",
   "metadata": {},
   "outputs": [
    {
     "data": {
      "text/plain": [
       "0        Dec-11\n",
       "1        Dec-11\n",
       "2        Dec-11\n",
       "3        Dec-11\n",
       "5        Dec-11\n",
       "          ...  \n",
       "39712    Jul-07\n",
       "39713    Jul-07\n",
       "39714    Jul-07\n",
       "39715    Jul-07\n",
       "39716    Jun-07\n",
       "Name: issue_d, Length: 33732, dtype: object"
      ]
     },
     "execution_count": 59,
     "metadata": {},
     "output_type": "execute_result"
    }
   ],
   "source": [
    "df0.issue_d"
   ]
  },
  {
   "cell_type": "code",
   "execution_count": 60,
   "id": "636a055b",
   "metadata": {},
   "outputs": [],
   "source": [
    "from datetime import datetime"
   ]
  },
  {
   "cell_type": "code",
   "execution_count": 61,
   "id": "f8361a31",
   "metadata": {},
   "outputs": [],
   "source": [
    "df0['issue_d'] = pd.to_datetime(df0[\"issue_d\"].apply(lambda x: datetime.strptime(x,'%b-%y'))).dt.strftime('%m-%Y') "
   ]
  },
  {
   "cell_type": "code",
   "execution_count": 62,
   "id": "6f2ebbf3",
   "metadata": {},
   "outputs": [],
   "source": [
    "df0['month'] = pd.DatetimeIndex(df0.issue_d).month\n",
    "df0['year'] = pd.DatetimeIndex(df0.issue_d).year"
   ]
  },
  {
   "cell_type": "markdown",
   "id": "fbd143e3",
   "metadata": {},
   "source": [
    "### 2. Earliest credit line"
   ]
  },
  {
   "cell_type": "code",
   "execution_count": 63,
   "id": "b459179c",
   "metadata": {},
   "outputs": [
    {
     "data": {
      "text/plain": [
       "0        Jan-85\n",
       "1        Apr-99\n",
       "2        Nov-01\n",
       "3        Feb-96\n",
       "5        Nov-04\n",
       "          ...  \n",
       "39712    Nov-90\n",
       "39713    Dec-86\n",
       "39714    Oct-98\n",
       "39715    Nov-88\n",
       "39716    Oct-03\n",
       "Name: earliest_cr_line, Length: 33732, dtype: object"
      ]
     },
     "execution_count": 63,
     "metadata": {},
     "output_type": "execute_result"
    }
   ],
   "source": [
    "df0.earliest_cr_line"
   ]
  },
  {
   "cell_type": "code",
   "execution_count": 64,
   "id": "2f3b504f",
   "metadata": {},
   "outputs": [],
   "source": [
    "df0['earliest_cr_line'] = df0.earliest_cr_line.str.split('-').str[1].astype(int)"
   ]
  },
  {
   "cell_type": "markdown",
   "id": "699981da",
   "metadata": {},
   "source": [
    "### 3. Create bins for some continuous variables\n",
    "\n",
    "### a. Loan amount range"
   ]
  },
  {
   "cell_type": "code",
   "execution_count": 65,
   "id": "349cd753",
   "metadata": {},
   "outputs": [],
   "source": [
    "bins = [0,5000,10000,15000,20000,25000,36000]\n",
    "buck = ['0-5000','5000-10000','10000-15000','15000-20000','20000-25000','25000+']\n",
    "df0['loan_amt_range'] = pd.cut(df0.loan_amnt , bins , labels=buck)"
   ]
  },
  {
   "cell_type": "markdown",
   "id": "a4440012",
   "metadata": {},
   "source": [
    "### b. Interest rate range"
   ]
  },
  {
   "cell_type": "code",
   "execution_count": 66,
   "id": "3e203353",
   "metadata": {},
   "outputs": [],
   "source": [
    "bins = [0,7.5,10,12.5,15,100]\n",
    "buck = ['0-7.5','7.5-10','10-12.5','12.5-15','15+']\n",
    "df0['int_rate_range'] = pd.cut(df0.int_rate , bins , labels=buck)"
   ]
  },
  {
   "cell_type": "markdown",
   "id": "09773581",
   "metadata": {},
   "source": [
    "### c. Annual Income range"
   ]
  },
  {
   "cell_type": "code",
   "execution_count": 67,
   "id": "26f47622",
   "metadata": {},
   "outputs": [],
   "source": [
    "bins = [0,25000,50000,75000,100000,1000000]\n",
    "buck = ['0-25000','25000-50000','50000-75000','75000-100000','100000+']\n",
    "df0['annual_inc_range'] = pd.cut(df0.annual_inc , bins , labels=buck)"
   ]
  },
  {
   "cell_type": "markdown",
   "id": "96926649",
   "metadata": {},
   "source": [
    "### d. Installment range"
   ]
  },
  {
   "cell_type": "code",
   "execution_count": 68,
   "id": "c4a6405b",
   "metadata": {},
   "outputs": [],
   "source": [
    "def installment(n):\n",
    "    if n <= 200:\n",
    "        return 'low'\n",
    "    elif n > 200 and n <=500:\n",
    "        return 'medium'\n",
    "    elif n > 500 and n <= 800:\n",
    "        return 'high'\n",
    "    else:\n",
    "        return 'very high'\n",
    "    \n",
    "df0.installment = df0.installment.apply(lambda x: installment(x))"
   ]
  },
  {
   "cell_type": "code",
   "execution_count": null,
   "id": "4ab3803d",
   "metadata": {},
   "outputs": [],
   "source": []
  },
  {
   "cell_type": "code",
   "execution_count": null,
   "id": "b28220a3",
   "metadata": {},
   "outputs": [],
   "source": []
  },
  {
   "cell_type": "code",
   "execution_count": null,
   "id": "2f695882",
   "metadata": {},
   "outputs": [],
   "source": []
  }
 ],
 "metadata": {
  "kernelspec": {
   "display_name": "Python 3 (ipykernel)",
   "language": "python",
   "name": "python3"
  },
  "language_info": {
   "codemirror_mode": {
    "name": "ipython",
    "version": 3
   },
   "file_extension": ".py",
   "mimetype": "text/x-python",
   "name": "python",
   "nbconvert_exporter": "python",
   "pygments_lexer": "ipython3",
   "version": "3.9.7"
  }
 },
 "nbformat": 4,
 "nbformat_minor": 5
}
